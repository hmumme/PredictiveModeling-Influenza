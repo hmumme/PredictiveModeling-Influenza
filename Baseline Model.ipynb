{
 "cells": [
  {
   "cell_type": "markdown",
   "metadata": {},
   "source": [
    "Import required libraries"
   ]
  },
  {
   "cell_type": "code",
   "execution_count": 36,
   "metadata": {},
   "outputs": [],
   "source": [
    "import numpy as np\n",
    "import pandas as pd\n",
    "import os\n",
    "import matplotlib.pyplot as plt\n",
    "from sklearn.ensemble import RandomForestRegressor\n",
    "from sklearn.model_selection import train_test_split\n",
    "from sklearn.model_selection import KFold\n",
    "from sklearn.model_selection import cross_val_score"
   ]
  },
  {
   "cell_type": "markdown",
   "metadata": {},
   "source": [
    "Load in excel files as Panda dataframes"
   ]
  },
  {
   "cell_type": "code",
   "execution_count": 37,
   "metadata": {},
   "outputs": [],
   "source": [
    "os.chdir(r'C:\\Users\\hopem\\OneDrive\\Desktop\\Spring 2020\\Biomedical Health Informatics\\Project\\Data')\n",
    "df_N = pd.read_excel('ProcessedData.xlsx', sheet_name = 'Norway')\n",
    "df_A = pd.read_excel('ProcessedData.xlsx', sheet_name = 'Australia')"
   ]
  },
  {
   "cell_type": "markdown",
   "metadata": {},
   "source": [
    "## Baseline Model"
   ]
  },
  {
   "cell_type": "markdown",
   "metadata": {},
   "source": [
    "Test model just using current week climate and google data, not incorporate flu from past weeks"
   ]
  },
  {
   "cell_type": "markdown",
   "metadata": {},
   "source": [
    "### Norway Baseline"
   ]
  },
  {
   "cell_type": "markdown",
   "metadata": {},
   "source": [
    "Remove rows with empty values and split into features and total flu values"
   ]
  },
  {
   "cell_type": "code",
   "execution_count": null,
   "metadata": {},
   "outputs": [],
   "source": [
    "df_N_base = df_N.drop(df_N.index[range(0,8)])\n",
    "n,m = df_N_base.shape\n",
    "X_N_base = df_N_base.iloc[:,[1,7]]\n",
    "y_N_base = df_N_base.iloc[:,4]"
   ]
  },
  {
   "cell_type": "markdown",
   "metadata": {},
   "source": [
    "Split into test and train"
   ]
  },
  {
   "cell_type": "code",
   "execution_count": null,
   "metadata": {},
   "outputs": [],
   "source": [
    "X_train_N_base, X_test_N_base, y_train_N_base, y_test_N_base = train_test_split(X_N_base, y_N_base, train_size = 84, test_size = 20)"
   ]
  },
  {
   "cell_type": "markdown",
   "metadata": {},
   "source": [
    "Find the OOB Error values of range of n_estimator values"
   ]
  },
  {
   "cell_type": "code",
   "execution_count": null,
   "metadata": {},
   "outputs": [],
   "source": [
    "# test multiple n_estimator performance\n",
    "nums = [10, 100, 500, 1000, 2000, 3000, 4000, 5000, 10000]\n",
    "oob_list_N_base = []\n",
    "mse_list_N_base = []\n",
    "for i in nums:\n",
    "    rf_N_base_opt = RandomForestRegressor(n_estimators = i, oob_score = True)\n",
    "    rf_N_base_opt.fit(X_train_N_base, y_train_N_base)\n",
    "    oob_list_N_base.append(rf_N_base_opt.oob_score_)\n",
    "    predictions_N_base = rf_N_base_opt.predict(X_test_N_base)\n",
    "    errors_N_base = (predictions_N_base - y_test_N_base)**2\n",
    "    MSE_N_base = np.sum(errors_N_base)/len(predictions_N_base)\n",
    "    mse_list_N_base.append(MSE_N_base)"
   ]
  },
  {
   "cell_type": "markdown",
   "metadata": {},
   "source": [
    "Find optimal n_estimator "
   ]
  },
  {
   "cell_type": "code",
   "execution_count": null,
   "metadata": {},
   "outputs": [],
   "source": [
    "max_ind_N_base = np.argmax(oob_list_N_base)\n",
    "print('Best n_estimator is:', nums[max_ind_N_base], 'with OOB Error:', oob_list_N_base[max_ind_N_base], 'and MSE:', mse_list_N_base[max_ind_N_base])"
   ]
  },
  {
   "cell_type": "markdown",
   "metadata": {},
   "source": [
    "Train random forest model with optimal n_estimator to determine R^2 and MSE"
   ]
  },
  {
   "cell_type": "code",
   "execution_count": null,
   "metadata": {},
   "outputs": [],
   "source": [
    "rf_N_base = RandomForestRegressor(n_estimators = 3000, oob_score = True)\n",
    "rf_N_base.fit(X_train_N_base, y_train_N_base)\n",
    "predictions_N_base = rf_N_base.predict(X_test_N_base)\n",
    "errors_N_base = (predictions_N_base - y_test_N_base)**2\n",
    "MSE_N_base = np.sum(errors_N_base)/len(predictions_N_base)\n",
    "print('Mean Sqaure Error:', MSE_N_base)\n",
    "\n",
    "print('OOB Error Score is:', rf_N_base.oob_score_)\n",
    "\n",
    "# find r squared\n",
    "r_N_base = np.corrcoef(y_test_N_base,predictions_N_base)\n",
    "corr_N_base = r_N_base[0,1]\n",
    "r2_N_base = corr_N_base**2\n",
    "print('R Squared is:', r2_N_base)"
   ]
  },
  {
   "cell_type": "code",
   "execution_count": null,
   "metadata": {},
   "outputs": [],
   "source": [
    "plt.title(\"Actual vs. Predicted Flu Count values for Norway Baseline\")\n",
    "plt.xlabel(\"Week\")\n",
    "plt.ylabel(\"Flu Counts Per Week\")\n",
    "plt.plot(range(len(y_test_N_base)),y_test_N_base, label = 'Actual')\n",
    "plt.plot(range(len(predictions_N_base)),predictions_N_base, label = 'Predicted')\n",
    "plt.legend()"
   ]
  },
  {
   "cell_type": "markdown",
   "metadata": {},
   "source": [
    "### Australia Baseline"
   ]
  },
  {
   "cell_type": "code",
   "execution_count": null,
   "metadata": {},
   "outputs": [],
   "source": [
    "df_A_base = df_A.drop(df_A.index[range(0,8)])\n",
    "n,m = df_A_base.shape\n",
    "X_A_base = df_A_base.iloc[:,[1,7]]\n",
    "y_A_base = df_A_base.iloc[:,4]"
   ]
  },
  {
   "cell_type": "markdown",
   "metadata": {},
   "source": [
    "Split into test and train"
   ]
  },
  {
   "cell_type": "code",
   "execution_count": null,
   "metadata": {},
   "outputs": [],
   "source": [
    "X_train_A_base, X_test_A_base, y_train_A_base, y_test_A_base = train_test_split(X_A_base, y_A_base, train_size = 84, test_size = 20)"
   ]
  },
  {
   "cell_type": "markdown",
   "metadata": {},
   "source": [
    "Find the OOB Error values of range of n_estimator values"
   ]
  },
  {
   "cell_type": "code",
   "execution_count": null,
   "metadata": {},
   "outputs": [],
   "source": [
    "# test multiple n_estimator performance\n",
    "nums = [10, 100, 500, 1000, 2000, 3000, 4000, 5000, 10000]\n",
    "oob_list_A_base = []\n",
    "mse_list_A_base = []\n",
    "for i in nums:\n",
    "    rf_A_base_opt = RandomForestRegressor(n_estimators = i, oob_score = True)\n",
    "    rf_A_base_opt.fit(X_train_A_base, y_train_A_base)\n",
    "    oob_list_A_base.append(rf_A_base_opt.oob_score_)\n",
    "    predictions_A_base = rf_A_base_opt.predict(X_test_A_base)\n",
    "    errors_A_base = (predictions_A_base - y_test_A_base)**2\n",
    "    MSE_A_base = np.sum(errors_A_base)/len(predictions_A_base)\n",
    "    mse_list_A_base.append(MSE_A_base)"
   ]
  },
  {
   "cell_type": "markdown",
   "metadata": {},
   "source": [
    "Find optimal n_estimator "
   ]
  },
  {
   "cell_type": "code",
   "execution_count": null,
   "metadata": {},
   "outputs": [],
   "source": [
    "max_ind_A_base = np.argmax(oob_list_A_base)\n",
    "print('Best n_estimator is:', nums[max_ind_A_base], 'with OOB Error:', oob_list_A_base[max_ind_A_base], 'and MSE:', mse_list_A_base[max_ind_A_base])"
   ]
  },
  {
   "cell_type": "markdown",
   "metadata": {},
   "source": [
    "Train random forest model with optimal n_estimator to determine R^2 and MSE"
   ]
  },
  {
   "cell_type": "code",
   "execution_count": null,
   "metadata": {},
   "outputs": [],
   "source": [
    "rf_A_base = RandomForestRegressor(n_estimators = 2000, oob_score = True)\n",
    "rf_A_base.fit(X_train_A_base, y_train_A_base)\n",
    "predictions_A_base = rf_A_base.predict(X_test_A_base)\n",
    "errors_A_base = (predictions_A_base - y_test_A_base)**2\n",
    "MSE_A_base = np.sum(errors_A_base)/len(predictions_A_base)\n",
    "print('Mean Sqaure Error:', MSE_A_base)\n",
    "\n",
    "print('OOB Error Score is:', rf_A_base.oob_score_)\n",
    "\n",
    "# find r squared\n",
    "r_A_base = np.corrcoef(y_test_A_base,predictions_A_base)\n",
    "corr_A_base = r_A_base[0,1]\n",
    "r2_A_base = corr_A_base**2\n",
    "print('R Squared is:', r2_A_base)"
   ]
  },
  {
   "cell_type": "code",
   "execution_count": null,
   "metadata": {},
   "outputs": [],
   "source": [
    "plt.title(\"Actual vs. Predicted Flu Count values for Australia Baseline\")\n",
    "plt.xlabel(\"Week\")\n",
    "plt.ylabel(\"Flu Counts Per Week\")\n",
    "plt.plot(range(len(y_test_A_base)),y_test_A_base, label = 'Actual')\n",
    "plt.plot(range(len(predictions_A_base)),predictions_A_base, label = 'Predicted')\n",
    "plt.legend()"
   ]
  }
 ],
 "metadata": {
  "kernelspec": {
   "display_name": "Python 3",
   "language": "python",
   "name": "python3"
  },
  "language_info": {
   "codemirror_mode": {
    "name": "ipython",
    "version": 3
   },
   "file_extension": ".py",
   "mimetype": "text/x-python",
   "name": "python",
   "nbconvert_exporter": "python",
   "pygments_lexer": "ipython3",
   "version": "3.7.6"
  }
 },
 "nbformat": 4,
 "nbformat_minor": 4
}
