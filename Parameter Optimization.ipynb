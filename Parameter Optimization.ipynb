{
 "cells": [
  {
   "cell_type": "markdown",
   "metadata": {},
   "source": [
    "### Norway Parameter Optimization"
   ]
  },
  {
   "cell_type": "code",
   "execution_count": 1,
   "metadata": {},
   "outputs": [],
   "source": [
    "import numpy as np\n",
    "import pandas as pd\n",
    "import os\n",
    "import matplotlib.pyplot as plt\n",
    "from sklearn.ensemble import RandomForestRegressor\n",
    "from sklearn.model_selection import train_test_split\n",
    "from sklearn.model_selection import KFold\n",
    "from sklearn.model_selection import cross_val_score\n",
    "\n",
    "os.chdir(r'C:\\Users\\hopem\\OneDrive\\Desktop\\Spring 2020\\Biomedical Health Informatics\\Project\\Data')\n",
    "df_N = pd.read_excel('ProcessedData.xlsx', sheet_name = 'Norway')\n",
    "df_A = pd.read_excel('ProcessedData.xlsx', sheet_name = 'Australia')\n",
    "\n",
    "df_N = df_N.drop(df_N.index[range(0,8)])\n",
    "n,m = df_N.shape\n",
    "X_N = df_N.iloc[:,range(8,m)]\n",
    "y_N = df_N.iloc[:,4]\n",
    "\n",
    "X_train_N, X_test_N, y_train_N, y_test_N = train_test_split(X_N, y_N, train_size = 0.7, test_size = 0.3)"
   ]
  },
  {
   "cell_type": "code",
   "execution_count": 2,
   "metadata": {},
   "outputs": [
    {
     "name": "stdout",
     "output_type": "stream",
     "text": [
      "Best n_estimator is: 3000 with OOB Error: 0.8741490370818544 and MSE: 25368.00541668055\n"
     ]
    }
   ],
   "source": [
    "# test multiple n_estimator performance\n",
    "nums = [100, 500, 1000, 2000, 3000, 4000, 5000, 10000]\n",
    "oob_list = []\n",
    "mse_list = []\n",
    "for i in nums:\n",
    "    rf_N_opt = RandomForestRegressor(n_estimators = i, oob_score = True)\n",
    "    rf_N_opt.fit(X_train_N, y_train_N)\n",
    "    oob_list.append(rf_N_opt.oob_score_)\n",
    "    predictions = rf_N_opt.predict(X_test_N)\n",
    "    errors = (predictions - y_test_N)**2\n",
    "    MSE = np.sum(errors)/len(predictions)\n",
    "    mse_list.append(MSE)\n",
    "    \n",
    "max_ind = np.argmax(oob_list)\n",
    "print('Best n_estimator is:', nums[max_ind], 'with OOB Error:', oob_list[max_ind], 'and MSE:', mse_list[max_ind])"
   ]
  },
  {
   "cell_type": "markdown",
   "metadata": {},
   "source": [
    "### Australia Parameter Optimization"
   ]
  },
  {
   "cell_type": "code",
   "execution_count": 3,
   "metadata": {},
   "outputs": [
    {
     "name": "stderr",
     "output_type": "stream",
     "text": [
      "C:\\Users\\hopem\\anaconda3\\lib\\site-packages\\sklearn\\ensemble\\forest.py:737: UserWarning: Some inputs do not have OOB scores. This probably means too few trees were used to compute any reliable oob estimates.\n",
      "  warn(\"Some inputs do not have OOB scores. \"\n"
     ]
    },
    {
     "name": "stdout",
     "output_type": "stream",
     "text": [
      "Best n_estimator is: 1000 with OOB Error: 0.9059307915631215 and MSE: 1238.99072415\n"
     ]
    }
   ],
   "source": [
    "df_A = df_A.drop(df_A.index[range(0,8)])\n",
    "n,m = df_A.shape\n",
    "X_A = df_A.iloc[:,range(8,m)]\n",
    "y_A = df_A.iloc[:,4]\n",
    "\n",
    "X_train_A, X_test_A, y_train_A, y_test_A = train_test_split(X_A, y_A, train_size = 84, test_size = 20)\n",
    "\n",
    "# test multiple n_estimator performance\n",
    "nums = [100, 500, 1000, 2000, 3000, 4000, 5000, 10000]\n",
    "oob_list_A = []\n",
    "mse_list_A = []\n",
    "for i in nums:\n",
    "    rf_A_opt = RandomForestRegressor(n_estimators = i, oob_score = True)\n",
    "    rf_A_opt.fit(X_train_A, y_train_A)\n",
    "    oob_list_A.append(rf_A_opt.oob_score_)\n",
    "    predictions_A = rf_A_opt.predict(X_test_A)\n",
    "    errors_A = (predictions_A - y_test_A)**2\n",
    "    MSE_A = np.sum(errors_A)/len(predictions_A)\n",
    "    mse_list_A.append(MSE_A)\n",
    "    \n",
    "max_ind_A = np.argmax(oob_list_A)\n",
    "print('Best n_estimator is:', nums[max_ind_A], 'with OOB Error:', oob_list_A[max_ind_A], 'and MSE:', mse_list_A[max_ind_A])"
   ]
  }
 ],
 "metadata": {
  "kernelspec": {
   "display_name": "Python 3",
   "language": "python",
   "name": "python3"
  },
  "language_info": {
   "codemirror_mode": {
    "name": "ipython",
    "version": 3
   },
   "file_extension": ".py",
   "mimetype": "text/x-python",
   "name": "python",
   "nbconvert_exporter": "python",
   "pygments_lexer": "ipython3",
   "version": "3.7.6"
  }
 },
 "nbformat": 4,
 "nbformat_minor": 4
}
