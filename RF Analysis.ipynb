{
 "cells": [
  {
   "cell_type": "code",
   "execution_count": null,
   "metadata": {},
   "outputs": [],
   "source": [
    "%reset"
   ]
  },
  {
   "cell_type": "markdown",
   "metadata": {},
   "source": [
    "Import required libraries"
   ]
  },
  {
   "cell_type": "code",
   "execution_count": null,
   "metadata": {},
   "outputs": [],
   "source": [
    "import numpy as np\n",
    "import pandas as pd\n",
    "import os\n",
    "import matplotlib.pyplot as plt\n",
    "from sklearn.ensemble import RandomForestRegressor\n",
    "from sklearn.model_selection import train_test_split\n",
    "from sklearn.model_selection import KFold\n",
    "from sklearn.model_selection import cross_val_score"
   ]
  },
  {
   "cell_type": "markdown",
   "metadata": {},
   "source": [
    "Load in excel files as Panda dataframes"
   ]
  },
  {
   "cell_type": "code",
   "execution_count": null,
   "metadata": {},
   "outputs": [],
   "source": [
    "os.chdir(r'C:\\Users\\hopem\\OneDrive\\Desktop\\Spring 2020\\Biomedical Health Informatics\\Project\\Data')\n",
    "df_N = pd.read_excel('ProcessedData.xlsx', sheet_name = 'Norway')\n",
    "df_A = pd.read_excel('ProcessedData.xlsx', sheet_name = 'Australia')"
   ]
  },
  {
   "cell_type": "markdown",
   "metadata": {},
   "source": [
    "Show actual flu counts in Australia versus Norway over the 2 years."
   ]
  },
  {
   "cell_type": "code",
   "execution_count": null,
   "metadata": {},
   "outputs": [],
   "source": [
    "flu_N = df_N.iloc[:,4]\n",
    "flu_A = df_A.iloc[:,4]\n",
    "\n",
    "plt.title(\"Norway and Australia Flu Counts 2018-2020\")\n",
    "plt.xlabel(\"Week\")\n",
    "plt.ylabel(\"Flu Counts Per Week\")\n",
    "plt.plot(range(len(flu_A)),flu_A, label = 'Australia')\n",
    "plt.plot(range(len(flu_N)),flu_N, label = 'Norway')\n",
    "plt.legend()"
   ]
  },
  {
   "cell_type": "markdown",
   "metadata": {},
   "source": [
    "## New Model"
   ]
  },
  {
   "cell_type": "markdown",
   "metadata": {},
   "source": [
    "### Norway "
   ]
  },
  {
   "cell_type": "markdown",
   "metadata": {},
   "source": [
    "Remove rows with empty values and split into features and total flu values"
   ]
  },
  {
   "cell_type": "code",
   "execution_count": null,
   "metadata": {},
   "outputs": [],
   "source": [
    "df_N = df_N.drop(df_N.index[range(0,8)])\n",
    "n,m = df_N.shape\n",
    "X_N = df_N.iloc[:,range(8,m)]\n",
    "y_N = df_N.iloc[:,4]"
   ]
  },
  {
   "cell_type": "markdown",
   "metadata": {},
   "source": [
    "Split into test and train"
   ]
  },
  {
   "cell_type": "code",
   "execution_count": null,
   "metadata": {},
   "outputs": [],
   "source": [
    "X_train_N, X_test_N, y_train_N, y_test_N = train_test_split(X_N, y_N, train_size = 0.8, test_size = 0.2)"
   ]
  },
  {
   "cell_type": "markdown",
   "metadata": {},
   "source": [
    "Train random forest model with optimal n_estimator determined during parameter optimization to determine R^2 and MSE"
   ]
  },
  {
   "cell_type": "code",
   "execution_count": null,
   "metadata": {},
   "outputs": [],
   "source": [
    "rf_N = RandomForestRegressor(n_estimators = 3000, oob_score = True)\n",
    "rf_N.fit(X_train_N, y_train_N)\n",
    "predictions_N = rf_N.predict(X_test_N)\n",
    "errors_N = (predictions_N - y_test_N)**2\n",
    "MSE_N = np.sum(errors_N)/len(predictions_N)\n",
    "print('Mean Sqaure Errorn:', MSE_N)\n",
    "# find r squared\n",
    "r_N = np.corrcoef(y_test_N,predictions_N)\n",
    "corr_N = r_N[0,1]\n",
    "r2_N = corr_N**2\n",
    "print('R Squared:', r2_N)\n",
    "print('OOB Score:',rf_N.oob_score_)"
   ]
  },
  {
   "cell_type": "code",
   "execution_count": 1,
   "metadata": {},
   "outputs": [
    {
     "ename": "NameError",
     "evalue": "name 'plt' is not defined",
     "output_type": "error",
     "traceback": [
      "\u001b[1;31m---------------------------------------------------------------------------\u001b[0m",
      "\u001b[1;31mNameError\u001b[0m                                 Traceback (most recent call last)",
      "\u001b[1;32m<ipython-input-1-e1b0ccf3e692>\u001b[0m in \u001b[0;36m<module>\u001b[1;34m\u001b[0m\n\u001b[1;32m----> 1\u001b[1;33m \u001b[0mplt\u001b[0m\u001b[1;33m.\u001b[0m\u001b[0mtitle\u001b[0m\u001b[1;33m(\u001b[0m\u001b[1;34m\"Actual vs. Predicted Flu Count values for Norway\"\u001b[0m\u001b[1;33m)\u001b[0m\u001b[1;33m\u001b[0m\u001b[1;33m\u001b[0m\u001b[0m\n\u001b[0m\u001b[0;32m      2\u001b[0m \u001b[0mplt\u001b[0m\u001b[1;33m.\u001b[0m\u001b[0mxlabel\u001b[0m\u001b[1;33m(\u001b[0m\u001b[1;34m\"Week\"\u001b[0m\u001b[1;33m)\u001b[0m\u001b[1;33m\u001b[0m\u001b[1;33m\u001b[0m\u001b[0m\n\u001b[0;32m      3\u001b[0m \u001b[0mplt\u001b[0m\u001b[1;33m.\u001b[0m\u001b[0mylabel\u001b[0m\u001b[1;33m(\u001b[0m\u001b[1;34m\"Flu Counts Per Week\"\u001b[0m\u001b[1;33m)\u001b[0m\u001b[1;33m\u001b[0m\u001b[1;33m\u001b[0m\u001b[0m\n\u001b[0;32m      4\u001b[0m \u001b[0mplt\u001b[0m\u001b[1;33m.\u001b[0m\u001b[0mxtikcs\u001b[0m\u001b[1;33m(\u001b[0m\u001b[0mrange\u001b[0m\u001b[1;33m(\u001b[0m\u001b[1;36m0\u001b[0m\u001b[1;33m,\u001b[0m\u001b[0mn\u001b[0m\u001b[1;33m,\u001b[0m\u001b[1;33m(\u001b[0m\u001b[0mn\u001b[0m\u001b[1;33m/\u001b[0m\u001b[1;36m4\u001b[0m\u001b[1;33m)\u001b[0m\u001b[1;33m)\u001b[0m\u001b[1;33m)\u001b[0m\u001b[1;33m\u001b[0m\u001b[1;33m\u001b[0m\u001b[0m\n\u001b[0;32m      5\u001b[0m \u001b[0mplt\u001b[0m\u001b[1;33m.\u001b[0m\u001b[0mplot\u001b[0m\u001b[1;33m(\u001b[0m\u001b[0mrange\u001b[0m\u001b[1;33m(\u001b[0m\u001b[0mlen\u001b[0m\u001b[1;33m(\u001b[0m\u001b[0my_test_N\u001b[0m\u001b[1;33m)\u001b[0m\u001b[1;33m)\u001b[0m\u001b[1;33m,\u001b[0m\u001b[0my_test_N\u001b[0m\u001b[1;33m,\u001b[0m \u001b[0mlabel\u001b[0m \u001b[1;33m=\u001b[0m \u001b[1;34m'Actual'\u001b[0m\u001b[1;33m)\u001b[0m\u001b[1;33m\u001b[0m\u001b[1;33m\u001b[0m\u001b[0m\n",
      "\u001b[1;31mNameError\u001b[0m: name 'plt' is not defined"
     ]
    }
   ],
   "source": [
    "plt.title(\"Actual vs. Predicted Flu Count values for Norway\")\n",
    "plt.xlabel(\"Week\")\n",
    "plt.ylabel(\"Flu Counts Per Week\")\n",
    "plt.plot(range(len(y_test_N)),y_test_N, label = 'Actual')\n",
    "plt.plot(range(len(predictions_N)),predictions_N, label = 'Predicted')\n",
    "plt.legend()"
   ]
  },
  {
   "cell_type": "markdown",
   "metadata": {},
   "source": [
    "### Australia"
   ]
  },
  {
   "cell_type": "code",
   "execution_count": null,
   "metadata": {},
   "outputs": [],
   "source": [
    "df_A = df_A.drop(df_A.index[range(0,8)])\n",
    "n,m = df_A.shape\n",
    "X_A = df_A.iloc[:,range(8,m)]\n",
    "y_A = df_A.iloc[:,4]"
   ]
  },
  {
   "cell_type": "code",
   "execution_count": null,
   "metadata": {},
   "outputs": [],
   "source": [
    "X_train_A, X_test_A, y_train_A, y_test_A = train_test_split(X_A, y_A, train_size = 84, test_size = 20)"
   ]
  },
  {
   "cell_type": "code",
   "execution_count": null,
   "metadata": {},
   "outputs": [],
   "source": [
    "rf_A = RandomForestRegressor(n_estimators = 1000, oob_score = True)\n",
    "rf_A.fit(X_train_A, y_train_A)\n",
    "predictions_A = rf_A.predict(X_test_A)\n",
    "errors_A = (predictions_A - y_test_A)**2\n",
    "MSE_A = np.sum(errors_A)/len(predictions_A)\n",
    "print('Mean Sqaure Error:', MSE_A)\n",
    "\n",
    "print('OOB Error Score is:', rf_A.oob_score_)\n",
    "\n",
    "# find r squared\n",
    "r = np.corrcoef(y_test_A,predictions_A)\n",
    "corr = r[0,1]\n",
    "r2_A = corr**2\n",
    "print('R Squared is:', r2_A)"
   ]
  },
  {
   "cell_type": "code",
   "execution_count": null,
   "metadata": {},
   "outputs": [],
   "source": [
    "plt.title(\"Actual vs. Predicted Flu Count values for Australia\")\n",
    "plt.xlabel(\"Week\")\n",
    "plt.ylabel(\"Flu Counts Per Week\")\n",
    "plt.plot(range(len(y_test_A)),y_test_A, label = 'Actual')\n",
    "plt.plot(range(len(predictions_A)),predictions_A, label = 'Predicted')\n",
    "plt.legend()"
   ]
  },
  {
   "cell_type": "markdown",
   "metadata": {},
   "source": [
    "### Test Model on March 2020"
   ]
  },
  {
   "cell_type": "code",
   "execution_count": null,
   "metadata": {},
   "outputs": [],
   "source": [
    "os.chdir(r'C:\\Users\\hopem\\OneDrive\\Desktop\\Spring 2020\\Biomedical Health Informatics\\Project\\Data')\n",
    "df_mN = pd.read_excel('ProcessedData.xlsx', sheet_name = 'March_Norway')\n",
    "df_mA = pd.read_excel('ProcessedData.xlsx', sheet_name = 'March_Australia')"
   ]
  },
  {
   "cell_type": "code",
   "execution_count": null,
   "metadata": {},
   "outputs": [],
   "source": [
    "n,m = df_mN.shape\n",
    "df_mN = df_mN.drop(df_mN.index[range(5,n)])\n",
    "X_mN = df_mN.iloc[:,range(6,m)]\n",
    "y_mN = df_mN.iloc[:,3]"
   ]
  },
  {
   "cell_type": "code",
   "execution_count": null,
   "metadata": {},
   "outputs": [],
   "source": [
    "predictions_mN = rf_N.predict(X_mN)\n",
    "errors_mN = (predictions_mN - y_mN)**2\n",
    "MSE_mN = np.sum(errors_mN)/len(predictions_mN)\n",
    "print('Mean Sqaure Error:', MSE_mN)\n",
    "\n",
    "# find r squared\n",
    "r = np.corrcoef(y_mN,predictions_mN)\n",
    "corr = r[0,1]\n",
    "r2_mN = corr**2\n",
    "print('R Squared is:', r2_mN)"
   ]
  },
  {
   "cell_type": "code",
   "execution_count": null,
   "metadata": {},
   "outputs": [],
   "source": [
    "plt.title(\"Actual vs. Predicted Flu Count values for Norway in March\")\n",
    "plt.xlabel(\"Week\")\n",
    "plt.ylabel(\"Flu Counts Per Week\")\n",
    "plt.plot(range(len(y_mN)),y_mN, label = 'Actual')\n",
    "plt.plot(range(len(predictions_mN)),predictions_mN, label = 'Predicted')\n",
    "plt.legend()"
   ]
  },
  {
   "cell_type": "code",
   "execution_count": null,
   "metadata": {},
   "outputs": [],
   "source": [
    "n,m = df_mA.shape\n",
    "df_mA = df_mA.drop(df_mA.index[range(5,n)])\n",
    "X_mA = df_mA.iloc[:,range(6,m)]\n",
    "y_mA = df_mN.iloc[:,3]\n",
    "\n",
    "predictions_mA = rf_A.predict(X_mA)\n",
    "errors_mA = (predictions_mA - y_mA)**2\n",
    "MSE_mA = np.sum(errors_mA)/len(predictions_mA)\n",
    "print('Mean Sqaure Error:', MSE_mA)\n",
    "\n",
    "# find r squared\n",
    "r = np.corrcoef(y_mA,predictions_mA)\n",
    "corr = r[0,1]\n",
    "r2_mA = corr**2\n",
    "print('R Squared is:', r2_mA)\n",
    "\n",
    "plt.title(\"Actual vs. Predicted Flu Count values for Australia in March\")\n",
    "plt.xlabel(\"Week\")\n",
    "plt.ylabel(\"Flu Counts Per Week\")\n",
    "plt.plot(range(len(y_mA)),y_mA, label = 'Actual')\n",
    "plt.plot(range(len(predictions_mA)),predictions_mA, label = 'Predicted')\n",
    "plt.legend()"
   ]
  }
 ],
 "metadata": {
  "kernelspec": {
   "display_name": "Python 3",
   "language": "python",
   "name": "python3"
  },
  "language_info": {
   "codemirror_mode": {
    "name": "ipython",
    "version": 3
   },
   "file_extension": ".py",
   "mimetype": "text/x-python",
   "name": "python",
   "nbconvert_exporter": "python",
   "pygments_lexer": "ipython3",
   "version": "3.7.6"
  }
 },
 "nbformat": 4,
 "nbformat_minor": 4
}
